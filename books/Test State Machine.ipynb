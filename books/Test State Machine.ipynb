{
 "cells": [
  {
   "cell_type": "code",
   "execution_count": 13,
   "metadata": {},
   "outputs": [],
   "source": [
    "import pandas as pd\n",
    "import time\n",
    "import uuid\n",
    "from queue import Queue"
   ]
  },
  {
   "cell_type": "code",
   "execution_count": 14,
   "metadata": {},
   "outputs": [],
   "source": [
    "frame = pd.DataFrame()"
   ]
  },
  {
   "cell_type": "code",
   "execution_count": null,
   "metadata": {},
   "outputs": [],
   "source": []
  },
  {
   "cell_type": "code",
   "execution_count": 15,
   "metadata": {},
   "outputs": [],
   "source": [
    "def singleton(class_):\n",
    "    class class_w(class_):\n",
    "        _instance = None\n",
    "        def __new__(class_, *args, **kwargs):\n",
    "            if class_w._instance is None:\n",
    "                class_w._instance = super(class_w,\n",
    "                                    class_).__new__(class_,\n",
    "                                                    *args,\n",
    "                                                    **kwargs)\n",
    "                class_w._instance._sealed = False\n",
    "            return class_w._instance\n",
    "        def __init__(self, *args, **kwargs):\n",
    "            if self._sealed:\n",
    "                return\n",
    "            super(class_w, self).__init__(*args, **kwargs)\n",
    "            self._sealed = True\n",
    "    class_w.__name__ = class_.__name__\n",
    "    return class_w"
   ]
  },
  {
   "cell_type": "code",
   "execution_count": 16,
   "metadata": {},
   "outputs": [],
   "source": [
    "# frame = frame.append([{\"one\": \"twp\"}], ignore_index=True)\n",
    "# How to do a conditional lock per episode\n",
    "    # 1. Create a list of required coins (the coins actually in an episode)\n",
    "    # 2. As a list of processing is done, append the processed coin to another episode\n",
    "    # 3. "
   ]
  },
  {
   "cell_type": "markdown",
   "metadata": {},
   "source": [
    "# How to Handle Multiple Creation Events In Parallel\n",
    "\n",
    "The objective here will be to documnet how to"
   ]
  },
  {
   "cell_type": "code",
   "execution_count": 19,
   "metadata": {},
   "outputs": [],
   "source": [
    "# @singleton\n",
    "class Manny(object):\n",
    "    \"\"\"Use a singleton version of this for everything\"\"\"\n",
    "    def __init__(self, event_queue):\n",
    "        self.event_queue = event_queue\n",
    "        self.frame = pd.DataFrame()\n",
    "        self.episode_info = {}\n",
    "        self.filled_event = {}\n",
    "        \n",
    "    def check_eid_lock(self, eid):\n",
    "        \"\"\"Check to see if the episode is locked or not\"\"\"\n",
    "        ep_rebal = self.episode_info.get(eid)\n",
    "        filled_rebal = self.filled_event.get(eid)\n",
    "        if ep_rebal is None or not isinstance(ep_rebal, list):\n",
    "            return False\n",
    "        elif filled_rebal is None or not isinstance(filled_rebal, list):\n",
    "            return False\n",
    "        \n",
    "        # Check if we should allow the emission of a rebalance event (if we're asking)\n",
    "        if len(filled_rebal) == len(ep_rebal):\n",
    "            return True\n",
    "        return False\n",
    "        \n",
    "    def set_required_coins_for_episode(self, eid, coins: list):\n",
    "        self.episode_info[eid] = coins\n",
    "    \n",
    "    def push_recent_activity(self, eid, _type, key, value, timestamp=time.time()):\n",
    "        self.frame = self.frame.append({\n",
    "            \"timestamp\": timestamp,\n",
    "            \"eid\": eid,\n",
    "            f\"{key}\": value,\n",
    "            \"type\": _type\n",
    "        }, ignore_index=True)\n",
    "    \n",
    "    def fill_and_flush(self, eid, coin):\n",
    "        current_eid = event.eid\n",
    "        most_recently_processed_coin = event.coin\n",
    "        \n",
    "    def process_tasks(self, event):\n",
    "        # Process the next task then append to the event\n",
    "        if isinstancen(event, MannyEvent):\n",
    "            # Get the eid from the event\n",
    "            # Get the coin that's getting proccessed\n",
    "            current_eid = event.eid\n",
    "            most_recently_processed_coin = event.coin\n",
    "            \n",
    "            pass"
   ]
  },
  {
   "cell_type": "code",
   "execution_count": 20,
   "metadata": {},
   "outputs": [],
   "source": [
    "qq = Queue()"
   ]
  },
  {
   "cell_type": "code",
   "execution_count": 21,
   "metadata": {},
   "outputs": [],
   "source": [
    "manny = Manny(qq)"
   ]
  },
  {
   "cell_type": "code",
   "execution_count": 22,
   "metadata": {},
   "outputs": [],
   "source": [
    "manny.set_required_coins_for_episode(uuid.uuid4().hex, [\"BTC\", \"ETH\"])"
   ]
  },
  {
   "cell_type": "code",
   "execution_count": 23,
   "metadata": {},
   "outputs": [
    {
     "data": {
      "text/plain": [
       "{'3b7d20216a23482984db63b948475229': ['BTC', 'ETH']}"
      ]
     },
     "execution_count": 23,
     "metadata": {},
     "output_type": "execute_result"
    }
   ],
   "source": [
    "manny.episode_info"
   ]
  },
  {
   "cell_type": "code",
   "execution_count": 24,
   "metadata": {},
   "outputs": [],
   "source": [
    "manny.push_recent_activity(uuid.uuid4().hex, \"helloworld\", \"hello\", \"world\")"
   ]
  },
  {
   "cell_type": "code",
   "execution_count": 25,
   "metadata": {},
   "outputs": [
    {
     "data": {
      "text/html": [
       "<div>\n",
       "<style scoped>\n",
       "    .dataframe tbody tr th:only-of-type {\n",
       "        vertical-align: middle;\n",
       "    }\n",
       "\n",
       "    .dataframe tbody tr th {\n",
       "        vertical-align: top;\n",
       "    }\n",
       "\n",
       "    .dataframe thead th {\n",
       "        text-align: right;\n",
       "    }\n",
       "</style>\n",
       "<table border=\"1\" class=\"dataframe\">\n",
       "  <thead>\n",
       "    <tr style=\"text-align: right;\">\n",
       "      <th></th>\n",
       "      <th>eid</th>\n",
       "      <th>hello</th>\n",
       "      <th>timestamp</th>\n",
       "      <th>type</th>\n",
       "    </tr>\n",
       "  </thead>\n",
       "  <tbody>\n",
       "    <tr>\n",
       "      <th>0</th>\n",
       "      <td>52719850ea3b4160b86bc9ba346bee9d</td>\n",
       "      <td>world</td>\n",
       "      <td>1.557536e+09</td>\n",
       "      <td>helloworld</td>\n",
       "    </tr>\n",
       "  </tbody>\n",
       "</table>\n",
       "</div>"
      ],
      "text/plain": [
       "                                eid  hello     timestamp        type\n",
       "0  52719850ea3b4160b86bc9ba346bee9d  world  1.557536e+09  helloworld"
      ]
     },
     "execution_count": 25,
     "metadata": {},
     "output_type": "execute_result"
    }
   ],
   "source": [
    "manny.frame"
   ]
  },
  {
   "cell_type": "code",
   "execution_count": null,
   "metadata": {},
   "outputs": [],
   "source": []
  }
 ],
 "metadata": {
  "kernelspec": {
   "display_name": "Python 3",
   "language": "python",
   "name": "python3"
  },
  "language_info": {
   "codemirror_mode": {
    "name": "ipython",
    "version": 3
   },
   "file_extension": ".py",
   "mimetype": "text/x-python",
   "name": "python",
   "nbconvert_exporter": "python",
   "pygments_lexer": "ipython3",
   "version": "3.6.6"
  },
  "varInspector": {
   "cols": {
    "lenName": 16,
    "lenType": 16,
    "lenVar": 40
   },
   "kernels_config": {
    "python": {
     "delete_cmd_postfix": "",
     "delete_cmd_prefix": "del ",
     "library": "var_list.py",
     "varRefreshCmd": "print(var_dic_list())"
    },
    "r": {
     "delete_cmd_postfix": ") ",
     "delete_cmd_prefix": "rm(",
     "library": "var_list.r",
     "varRefreshCmd": "cat(var_dic_list()) "
    }
   },
   "types_to_exclude": [
    "module",
    "function",
    "builtin_function_or_method",
    "instance",
    "_Feature"
   ],
   "window_display": false
  }
 },
 "nbformat": 4,
 "nbformat_minor": 2
}
